{
 "cells": [
  {
   "cell_type": "code",
   "execution_count": 1,
   "metadata": {},
   "outputs": [
    {
     "name": "stdout",
     "output_type": "stream",
     "text": [
      "\n",
      "    This function returns a pandas.DataFrame object and a \n",
      "    generated html from the data based on user specifications.\n",
      "    \n",
      "    #Example:\n",
      "      data_html, data_df = generate_html_with_table(data, columns_or_rows, column_name_prefix, span_axis, showOutput)\n",
      "      # To suppress output and skip the DataFrame:\n",
      "      # span data along a row first\n",
      "        columns = 4\n",
      "        columns_or_rows = columns\n",
      "        data_html, _ = generate_html_with_table(data, columns_or_rows, column_name_prefix, 1, False)  \n",
      "      # span data along a column first\n",
      "        rows = 4\n",
      "        columns_or_rows = rows\n",
      "        data_html, _ = generate_html_with_table(data, columns_or_rows, column_name_prefix, 0, False)   \n",
      "      \n",
      "    # Inputs: \n",
      "        1. data:               Data\n",
      "           (dtype: list)\n",
      "           \n",
      "      **Optional Input Parameters:**\n",
      "        2. columns_or_rows:            Number of Columns or rows\n",
      "           (dtype: int)                columns: span_axis = 1\n",
      "           (DEFAULT: 1)                rows:    span_axis = 0\n",
      "        3. column_name_prefix: The Prefix for Column headers\n",
      "           (dtype: string)\n",
      "           (DEFAULT: 'Column')\n",
      "        4. span_axis:          The direction along which the elements span.\n",
      "           (dtype: int)        span_axis = 0 (span along 1st column, then 2nd column and so on)\n",
      "           (DEFAULT: 1)        span_axis = 1 (span along 1st row, then 2nd row and so on)\n",
      "        5. showOutput:         (True/False) Whether to show output or not. Use \n",
      "           (dtype: boolean)                   False to suppress printing output.\n",
      "           (DEFAULT: True)\n",
      "                                                              \n",
      "    # Outputs:\n",
      "        data_html: generated html\n",
      "        data_df:   generated pandas.DataFrame object\n",
      "        \n",
      "    # Author: Sugato Ray \n",
      "    Github: https://github.com/sugatoray\n",
      "    Repository/Project: CodeSnippets\n",
      "    \n",
      "    \n"
     ]
    },
    {
     "ename": "FileNotFoundError",
     "evalue": "[Errno 2] No such file or directory: 'index.html'",
     "output_type": "error",
     "traceback": [
      "\u001b[0;31m---------------------------------------------------------------------------\u001b[0m",
      "\u001b[0;31mFileNotFoundError\u001b[0m                         Traceback (most recent call last)",
      "\u001b[0;32m<ipython-input-1-e5b2cc9cef49>\u001b[0m in \u001b[0;36m<module>\u001b[0;34m\u001b[0m\n\u001b[1;32m      4\u001b[0m \u001b[0;32mfrom\u001b[0m \u001b[0mbs4\u001b[0m \u001b[0;32mimport\u001b[0m \u001b[0mBeautifulSoup\u001b[0m \u001b[0;32mas\u001b[0m \u001b[0mBS\u001b[0m\u001b[0;34m\u001b[0m\u001b[0m\n\u001b[1;32m      5\u001b[0m \u001b[0;34m\u001b[0m\u001b[0m\n\u001b[0;32m----> 6\u001b[0;31m \u001b[0msoup\u001b[0m \u001b[0;34m=\u001b[0m \u001b[0mBS\u001b[0m\u001b[0;34m(\u001b[0m\u001b[0mopen\u001b[0m\u001b[0;34m(\u001b[0m\u001b[0;34m\"index.html\"\u001b[0m\u001b[0;34m)\u001b[0m\u001b[0;34m,\u001b[0m\u001b[0;34m'html.parser'\u001b[0m\u001b[0;34m)\u001b[0m\u001b[0;34m\u001b[0m\u001b[0m\n\u001b[0m\u001b[1;32m      7\u001b[0m \u001b[0;34m\u001b[0m\u001b[0m\n\u001b[1;32m      8\u001b[0m \u001b[0msoup\u001b[0m\u001b[0;34m.\u001b[0m\u001b[0mbody\u001b[0m\u001b[0;34m.\u001b[0m\u001b[0mappend\u001b[0m\u001b[0;34m(\u001b[0m\u001b[0mstr\u001b[0m\u001b[0;34m(\u001b[0m\u001b[0mmain\u001b[0m\u001b[0;34m(\u001b[0m\u001b[0;34m\"TailNumbers.eml\"\u001b[0m\u001b[0;34m)\u001b[0m\u001b[0;34m)\u001b[0m\u001b[0;34m)\u001b[0m\u001b[0;34m\u001b[0m\u001b[0m\n",
      "\u001b[0;31mFileNotFoundError\u001b[0m: [Errno 2] No such file or directory: 'index.html'"
     ]
    }
   ],
   "source": [
    "import cgi\n",
    "from create import main\n",
    "from lib.data_table import generate_html_with_table as ghwt\n",
    "from bs4 import BeautifulSoup as BS\n",
    "\n",
    "soup = BS(open(\"index.html\"),'html.parser')\n",
    "\n",
    "soup.body.append(str(main(\"TailNumbers.eml\")))\n",
    "\n",
    "with open('index.html','w') as outf:\n",
    "    outf.write(str(soup))\n",
    "\n",
    "print(soup)"
   ]
  }
 ],
 "metadata": {
  "kernelspec": {
   "display_name": "Python 3",
   "language": "python",
   "name": "python3"
  },
  "language_info": {
   "codemirror_mode": {
    "name": "ipython",
    "version": 3
   },
   "file_extension": ".py",
   "mimetype": "text/x-python",
   "name": "python",
   "nbconvert_exporter": "python",
   "pygments_lexer": "ipython3",
   "version": "3.5.3"
  }
 },
 "nbformat": 4,
 "nbformat_minor": 2
}
