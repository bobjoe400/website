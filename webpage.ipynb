{
 "cells": [
  {
   "cell_type": "code",
   "execution_count": null,
   "metadata": {},
   "outputs": [],
   "source": [
    "import cgi\n",
    "from create import main\n",
    "from lib.data_table import generate_html_with_table as ghwt\n",
    "from bs4 import BeautifulSoup as BS\n",
    "\n",
    "soup = BS(open(\"index.html\"),'html.parser')\n",
    "\n",
    "soup.body.append(str(main(\"TailNumbers.eml\")))\n",
    "\n",
    "with open('index.html','w') as outf:\n",
    "    outf.write(str(soup))\n",
    "\n",
    "print(soup)"
   ]
  }
 ],
 "metadata": {
  "kernelspec": {
   "display_name": "Python 3",
   "language": "python",
   "name": "python3"
  },
  "language_info": {
   "codemirror_mode": {
    "name": "ipython",
    "version": 3
   },
   "file_extension": ".py",
   "mimetype": "text/x-python",
   "name": "python",
   "nbconvert_exporter": "python",
   "pygments_lexer": "ipython3",
   "version": "3.7.1"
  }
 },
 "nbformat": 4,
 "nbformat_minor": 2
}
