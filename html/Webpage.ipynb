{
 "cells": [
  {
   "cell_type": "code",
   "execution_count": 33,
   "metadata": {},
   "outputs": [
    {
     "name": "stdout",
     "output_type": "stream",
     "text": [
      "<!DOCTYPE html><html><head>oh</head><body>niggerfaggot</body></html>\n"
     ]
    }
   ],
   "source": [
    "import cgi\n",
    "from bs4 import BeautifulSoup as BS\n",
    "\n",
    "\n",
    "header= \"<!DOCTYPE html><html><head>oh</head>\"\n",
    "footer= \"</html>\"\n",
    "\n",
    "f = open(\"index.html\",\"w+\")\n",
    "f.write(header+\"<body>niggerfaggot</body>\"+footer)\n",
    "f.close\n",
    "\n",
    "soup = BS(open(\"index.html\"),'html.parser')\n",
    "\n",
    "\n",
    "with open('index.html','w') as outf:\n",
    "    outf.write(str(soup))"
   ]
  }
 ],
 "metadata": {
  "kernelspec": {
   "display_name": "Python 3",
   "language": "python",
   "name": "python3"
  },
  "language_info": {
   "codemirror_mode": {
    "name": "ipython",
    "version": 3
   },
   "file_extension": ".py",
   "mimetype": "text/x-python",
   "name": "python",
   "nbconvert_exporter": "python",
   "pygments_lexer": "ipython3",
   "version": "3.7.1"
  }
 },
 "nbformat": 4,
 "nbformat_minor": 2
}
