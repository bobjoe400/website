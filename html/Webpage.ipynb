{
 "cells": [
  {
   "cell_type": "code",
   "execution_count": 5,
   "metadata": {},
   "outputs": [
    {
     "name": "stdout",
     "output_type": "stream",
     "text": [
      "<!DOCTYPE html>\n",
      "\n",
      "<html><head>oh</head><body>niggerfaggot</body></html>  body {\n",
      "        width: 35em;\n",
      "        margin: 0 auto;\n",
      "        font-family: Tahoma, Verdana, Arial, sans-serif;\n",
      "    }\n",
      "    .center {\n",
      "        display: block;\n",
      "        margin-left: auto;\n",
      "        margin-right: auto;\n",
      "        width:100%;\n",
      "    }\n",
      "\n",
      "\n",
      "<body>\n",
      "<h1>HEY LEANNA I LOVE YOU</h1>\n",
      "<p>It's pretty impressive that Harry can produce a FULL PATRONUS at his age</p>\n",
      "</body>\n",
      "<img class=\"center\" src=\"maxresdefault.jpg\"/>\n",
      "\n"
     ]
    }
   ],
   "source": [
    "import cgi\n",
    "from bs4 import BeautifulSoup as BS\n",
    "\n",
    "soup = BS(open(\"index.html\"),'html.parser')\n",
    "\n",
    "with open('index.html','w') as outf:\n",
    "    outf.write(str(soup))\n",
    "\n",
    "print(soup)"
   ]
  }
 ],
 "metadata": {
  "kernelspec": {
   "display_name": "Python 3",
   "language": "python",
   "name": "python3"
  },
  "language_info": {
   "codemirror_mode": {
    "name": "ipython",
    "version": 3
   },
   "file_extension": ".py",
   "mimetype": "text/x-python",
   "name": "python",
   "nbconvert_exporter": "python",
   "pygments_lexer": "ipython3",
   "version": "3.7.1"
  }
 },
 "nbformat": 4,
 "nbformat_minor": 2
}
